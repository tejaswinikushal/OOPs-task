{
 "cells": [
  {
   "cell_type": "markdown",
   "id": "354bbc5e",
   "metadata": {},
   "source": [
    "#### Q1, Create a vehicle class with an init method having instance variables as name_of_vehicle, max_speed and average_of_vehicle."
   ]
  },
  {
   "cell_type": "code",
   "execution_count": 1,
   "id": "ea6799e5",
   "metadata": {},
   "outputs": [
    {
     "name": "stdout",
     "output_type": "stream",
     "text": [
      "toyato\n",
      "34\n",
      "25\n"
     ]
    }
   ],
   "source": [
    "class Vehicle:\n",
    "    def __init__(self,name_of_vehicle, max_speed,average_of_vehicle):\n",
    "        self.name=name_of_vehicle;\n",
    "        self.speed=max_speed;\n",
    "        self.average=average_of_vehicle;\n",
    "car=Vehicle(\"toyato\",34,25)\n",
    "print(car.name)\n",
    "print(car.speed)\n",
    "print(car.average)"
   ]
  },
  {
   "cell_type": "markdown",
   "id": "a6234cae",
   "metadata": {},
   "source": [
    "#### Q2. Create a child class car from the vehicle class created in Que 1, which will inherit the vehicle class.Create a method named seating_capacity which takes capacity as an argument and returns the name of the vehicle and its seating capacity."
   ]
  },
  {
   "cell_type": "code",
   "execution_count": 2,
   "id": "e952f403",
   "metadata": {},
   "outputs": [
    {
     "name": "stdout",
     "output_type": "stream",
     "text": [
      "Toyota Camry has a seating capacity of 5.\n"
     ]
    }
   ],
   "source": [
    "class Vehicle:\n",
    "    def __init__(self,name_of_vehicle, max_speed,average_of_vehicle):\n",
    "        self.name=name_of_vehicle;\n",
    "        self.speed=max_speed;\n",
    "        self.average=average_of_vehicle;\n",
    "    def get_name(self):\n",
    "        return self.name\n",
    "\n",
    "\n",
    "class Car(Vehicle):\n",
    "    def seating_capacity(self, capacity):\n",
    "        return f\"{self.get_name()} has a seating capacity of {capacity}.\"\n",
    "\n",
    "my_car = Car(\"Toyota Camry\",40,40.5)\n",
    "result = my_car.seating_capacity(5)\n",
    "print(result)"
   ]
  },
  {
   "cell_type": "markdown",
   "id": "faa380a7",
   "metadata": {},
   "source": [
    "#### Q3. What is multiple inheritance? Write a python code to demonstrate multiple inheritance."
   ]
  },
  {
   "cell_type": "markdown",
   "id": "70ddc688",
   "metadata": {},
   "source": [
    "#### multiple inheritance :.\n",
    "Multiple inheritance is a feature in object-oriented programming that allows a class to inherit attributes and methods from multiple parent classes. This enables the derived class to combine the features and behaviors of multiple classes"
   ]
  },
  {
   "cell_type": "code",
   "execution_count": 3,
   "id": "7f0eb776",
   "metadata": {},
   "outputs": [
    {
     "name": "stdout",
     "output_type": "stream",
     "text": [
      "{self.name}is going to start\n",
      "None\n",
      "the{self.name} is driving\n",
      "None\n"
     ]
    }
   ],
   "source": [
    "class vehicle:\n",
    "   def __init__(self,name):\n",
    "       self.name=name\n",
    "       \n",
    "   def test(self):\n",
    "       print(\"{self.name}is going to start\")\n",
    "class flies:\n",
    "   def test1(self):\n",
    "       print(\"the{self.name} is driving\")\n",
    "class flyingcar(vehicle,flies):\n",
    "   def test3(self,name):\n",
    "       super.__init__(name)\n",
    "obj=flyingcar(\"skyRider\")\n",
    "print(obj.test())\n",
    "print(obj.test1())"
   ]
  },
  {
   "cell_type": "markdown",
   "id": "09cec3d6",
   "metadata": {},
   "source": [
    "#### Q4. What are getter and setter in python? Create a class and create a getter and a setter method in this class."
   ]
  },
  {
   "cell_type": "markdown",
   "id": "0da20411",
   "metadata": {},
   "source": [
    "#### Getter and setter methods :\n",
    "getters and setters are methods used to access and modify the attributes of a class. They provide controlled access to class attributes and allow for encapsulation, ensuring data integrity and abstraction. Getters are used to retrieve the value of an attribute, while setters are used to modify or set the value of an attribute."
   ]
  },
  {
   "cell_type": "code",
   "execution_count": 4,
   "id": "9dea59e8",
   "metadata": {},
   "outputs": [
    {
     "name": "stdout",
     "output_type": "stream",
     "text": [
      "0\n",
      "40\n"
     ]
    }
   ],
   "source": [
    "class vehicle:\n",
    "   def __init__(self,name,colour,speed):\n",
    "       self.__name=name\n",
    "       self.__colour=colour\n",
    "       self.__speed=0\n",
    "   def set_speed(self,speed):\n",
    "       self.__speed=0 if speed<0 else speed\n",
    "   def get_speed(self):\n",
    "       return self.__speed\n",
    "obj=vehicle(\"car\",\"blue\",40.5)\n",
    "print(obj.get_speed())\n",
    "s=obj.set_speed(40)\n",
    "print(obj.get_speed())"
   ]
  },
  {
   "cell_type": "markdown",
   "id": "e4c21927",
   "metadata": {},
   "source": [
    "####                                                          OR"
   ]
  },
  {
   "cell_type": "code",
   "execution_count": 5,
   "id": "39e45eb0",
   "metadata": {},
   "outputs": [
    {
     "name": "stdout",
     "output_type": "stream",
     "text": [
      "car\n",
      "bike\n"
     ]
    }
   ],
   "source": [
    "class vehicle:\n",
    "   def __init__(self,name,colour,speed):\n",
    "       self.__name=name\n",
    "       self.__colour=colour\n",
    "       self.__speed=0\n",
    "   def set_name(self,name):\n",
    "       self.__name=name\n",
    "   def get_name(self):\n",
    "       return self.__name\n",
    "obj=vehicle(\"car\",\"blue\",40.5)\n",
    "print(obj.get_name())\n",
    "s=obj.set_name(\"bike\")\n",
    "print(obj.get_name())"
   ]
  },
  {
   "cell_type": "markdown",
   "id": "0fb4e544",
   "metadata": {},
   "source": [
    "#### Q5.What is method overriding in python? Write a python code to demonstrate method overriding."
   ]
  },
  {
   "cell_type": "markdown",
   "id": "bbedf98a",
   "metadata": {},
   "source": [
    "#### Method Overriding :\n",
    "Method overriding allows a subclass to provide a different implementation of a method that is already defined in its parent class. It allows a subclass to redefine a method inherited from the parent class with the same name, but with different functionality."
   ]
  },
  {
   "cell_type": "code",
   "execution_count": 6,
   "id": "f92a26ec",
   "metadata": {},
   "outputs": [
    {
     "name": "stdout",
     "output_type": "stream",
     "text": [
      "the dog barks\n"
     ]
    }
   ],
   "source": [
    "class animal:\n",
    "    def sounds(self):\n",
    "        print(\"animal makes a sound\")\n",
    "class dog(animal):\n",
    "    def sounds(self):\n",
    "        print(\"the dog barks\")\n",
    "obj=dog()\n",
    "obj.sounds()"
   ]
  },
  {
   "cell_type": "markdown",
   "id": "8b87dabc",
   "metadata": {},
   "source": [
    "Here,in child class we write the same function as in parent class now as we create an object to child class and if we call the method which is in both parent and child class ,it takes the method of child class . It happens because it overides the previous method (ie; parent class method)"
   ]
  }
 ],
 "metadata": {
  "kernelspec": {
   "display_name": "Python 3 (ipykernel)",
   "language": "python",
   "name": "python3"
  },
  "language_info": {
   "codemirror_mode": {
    "name": "ipython",
    "version": 3
   },
   "file_extension": ".py",
   "mimetype": "text/x-python",
   "name": "python",
   "nbconvert_exporter": "python",
   "pygments_lexer": "ipython3",
   "version": "3.11.2"
  }
 },
 "nbformat": 4,
 "nbformat_minor": 5
}
